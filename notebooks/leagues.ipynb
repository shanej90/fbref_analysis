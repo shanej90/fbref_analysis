{
 "cells": [
  {
   "cell_type": "markdown",
   "id": "45127013",
   "metadata": {},
   "source": [
    "# Get valid FBref comps from `ScraperFC`"
   ]
  },
  {
   "cell_type": "code",
   "execution_count": null,
   "id": "19f866f4",
   "metadata": {},
   "outputs": [],
   "source": []
  }
 ],
 "metadata": {
  "kernelspec": {
   "display_name": ".venv",
   "language": "python",
   "name": "python3"
  },
  "language_info": {
   "name": "python",
   "version": "3.12.0"
  }
 },
 "nbformat": 4,
 "nbformat_minor": 5
}
