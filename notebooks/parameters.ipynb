{
 "cells": [
  {
   "cell_type": "markdown",
   "id": "45127013",
   "metadata": {},
   "source": [
    "# Get valid FBref parameters from `ScraperFC`"
   ]
  },
  {
   "cell_type": "code",
   "execution_count": 1,
   "id": "19f866f4",
   "metadata": {},
   "outputs": [],
   "source": [
    "from ScraperFC.fbref import comps\n",
    "from ScraperFC import FBref"
   ]
  },
  {
   "cell_type": "code",
   "execution_count": null,
   "id": "a341eacb",
   "metadata": {},
   "outputs": [
    {
     "data": {
      "text/plain": [
       "['Copa Libertadores',\n",
       " 'Champions League',\n",
       " 'Europa League',\n",
       " 'Europa Conference League',\n",
       " 'World Cup',\n",
       " 'Copa America',\n",
       " 'Euros',\n",
       " 'Big 5 combined',\n",
       " 'EPL',\n",
       " 'Ligue 1',\n",
       " 'Bundesliga',\n",
       " 'Serie A',\n",
       " 'La Liga',\n",
       " 'MLS',\n",
       " 'Brazilian Serie A',\n",
       " 'Eredivisie',\n",
       " 'Liga MX',\n",
       " 'Primeira Liga',\n",
       " 'Belgian Pro League',\n",
       " 'Argentina Liga Profesional',\n",
       " 'Saudi Pro League',\n",
       " 'Turkish Super Lig',\n",
       " 'EFL Championship',\n",
       " 'La Liga 2',\n",
       " '2. Bundesliga',\n",
       " 'Ligue 2',\n",
       " 'Serie B',\n",
       " 'Womens Champions League',\n",
       " 'Womens World Cup',\n",
       " 'Womens Euros',\n",
       " 'NWSL',\n",
       " 'A-League Women',\n",
       " 'WSL',\n",
       " 'D1 Feminine',\n",
       " 'Womens Bundesliga',\n",
       " 'Womens Serie A',\n",
       " 'Liga F',\n",
       " 'NWSL Challenge Cup',\n",
       " 'NWSL Fall Series']"
      ]
     },
     "execution_count": 5,
     "metadata": {},
     "output_type": "execute_result"
    }
   ],
   "source": [
    "#list competitions\n",
    "list(comps.keys())"
   ]
  },
  {
   "cell_type": "code",
   "execution_count": null,
   "id": "5989c437",
   "metadata": {},
   "outputs": [
    {
     "data": {
      "text/plain": [
       "['2024-2025', '2023-2024', '2022-2023', '2021-2022']"
      ]
     },
     "execution_count": 11,
     "metadata": {},
     "output_type": "execute_result"
    }
   ],
   "source": [
    "#create fbref object\n",
    "\n",
    "fbr = FBref()\n",
    "\n",
    "#list valid seasons for interesting leagues\n",
    "use_leagues = [\"Bundesliga\",\"EPL\", \"La Liga\", \"Ligue 1\", \"Serie A\"]\n",
    "\n",
    "seasons = [fbr.get_valid_seasons]\n",
    "\n",
    "list(seasons.keys())[0:4]"
   ]
  },
  {
   "cell_type": "code",
   "execution_count": null,
   "id": "77177e9a",
   "metadata": {},
   "outputs": [],
   "source": []
  }
 ],
 "metadata": {
  "kernelspec": {
   "display_name": ".venv",
   "language": "python",
   "name": "python3"
  },
  "language_info": {
   "codemirror_mode": {
    "name": "ipython",
    "version": 3
   },
   "file_extension": ".py",
   "mimetype": "text/x-python",
   "name": "python",
   "nbconvert_exporter": "python",
   "pygments_lexer": "ipython3",
   "version": "3.12.0"
  }
 },
 "nbformat": 4,
 "nbformat_minor": 5
}
